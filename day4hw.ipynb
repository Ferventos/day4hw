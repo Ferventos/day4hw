{
 "cells": [
  {
   "cell_type": "markdown",
   "metadata": {},
   "source": [
    "### 1) Create a program that allows a user to continue to add people to an address book until the user quits. Once the user quits, break out of the loop and print out the name and address of everyone in the address book"
   ]
  },
  {
   "cell_type": "markdown",
   "metadata": {},
   "source": [
    "###### Steps\n",
    "1. Create a function that will ask user for name and addresses and stores them in a dictionary\n",
    "2. Define an empty dictionary with which to work (global or local variable?)\n",
    "3. Begin a loop that will continue to ask a user for information until the user \"quits\"\n",
    "4. If the user does not quit, ask for a name and address and store the variables into variables\n",
    "5. Add information to the dictionary with name as the key and address as the value\n",
    "6. If the user does quit, end the loop\n",
    "7. Print out the information from the dictionary in a formatted way\n",
    "8. Execute/Call the function"
   ]
  },
  {
   "cell_type": "code",
   "execution_count": 2,
   "metadata": {},
   "outputs": [
    {
     "name": "stdout",
     "output_type": "stream",
     "text": [
      "enter q to begin, or w to exit q\n",
      "Enter your username alpha\n",
      "enter your address 12345\n",
      "alpha has been added with the address: 12345\n",
      "enter q to begin, or w to exit q\n",
      "Enter your username bravo\n",
      "enter your address 54321\n",
      "bravo has been added with the address: 54321\n",
      "enter q to begin, or w to exit q\n",
      "Enter your username charles\n",
      "enter your address 99999\n",
      "charles has been added with the address: 99999\n",
      "enter q to begin, or w to exit e\n",
      "invalid entry\n",
      "enter q to begin, or w to exit w\n",
      "googbye\n"
     ]
    }
   ],
   "source": [
    "from IPython.display import clear_output\n",
    "dictio= {}\n",
    "def functio(dictionary):\n",
    "    query1 = ''\n",
    "    while query1 != 'w':\n",
    "        query1= input('enter q to begin, or w to exit ')\n",
    "        if query1 == 'q':\n",
    "            utente = input('Enter your username ')\n",
    "            indirizzo = input('enter your address ')\n",
    "            dictio[utente] = indirizzo\n",
    "            print('{} has been added with the address: {}'.format(utente, dictio[utente]))\n",
    "        elif query1 == 'w':\n",
    "            print('goodbye')\n",
    "            break\n",
    "        else:\n",
    "            print('invalid entry')\n",
    "functio(dictio)\n"
   ]
  },
  {
   "cell_type": "markdown",
   "metadata": {},
   "source": [
    "### 2) Best Time to Meet"
   ]
  },
  {
   "cell_type": "markdown",
   "metadata": {},
   "source": [
    "Billy is trying to figure out if there is a time that he and his team can meet to work on the project. His three teammates each give him a list of times they are available ('HH:MM' 24-hour). Create a function that will take in the list of all the teammates and return a list of times where everyone can meet."
   ]
  },
  {
   "cell_type": "code",
   "execution_count": 24,
   "metadata": {},
   "outputs": [],
   "source": [
    "t1 = ['09:00', '10:30', '11:30', '12:00', '13:00', '14:30']\n",
    "t2 = ['09:30', '10:00', '10:30', '12:00', '14:30', '16:00']\n",
    "t3 = ['09:00', '09:30', '11:00', '11:30', '12:00', '13:30', '14:30', '15:00']\n",
    "t4 = ['11:00', '11:30', '12:00', '14:00', '14:30', '16:30', '17:00']\n",
    "# Available Times: '12:00' and '14:30'"
   ]
  },
  {
   "cell_type": "code",
   "execution_count": 27,
   "metadata": {},
   "outputs": [
    {
     "data": {
      "text/plain": [
       "['14:30', '12:00']"
      ]
     },
     "execution_count": 27,
     "metadata": {},
     "output_type": "execute_result"
    }
   ],
   "source": [
    "def times(l1, l2, l3, l4):\n",
    "    alltimes = set(l1) & set (l2) & set(l3) & set(l4)\n",
    "    return [time for time in alltimes]\n",
    "times(t1, t2, t3, t4)"
   ]
  },
  {
   "cell_type": "code",
   "execution_count": null,
   "metadata": {},
   "outputs": [],
   "source": []
  }
 ],
 "metadata": {
  "kernelspec": {
   "display_name": "Python 3",
   "language": "python",
   "name": "python3"
  },
  "language_info": {
   "codemirror_mode": {
    "name": "ipython",
    "version": 3
   },
   "file_extension": ".py",
   "mimetype": "text/x-python",
   "name": "python",
   "nbconvert_exporter": "python",
   "pygments_lexer": "ipython3",
   "version": "3.8.8"
  }
 },
 "nbformat": 4,
 "nbformat_minor": 2
}
